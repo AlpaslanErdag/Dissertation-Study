{
  "nbformat": 4,
  "nbformat_minor": 0,
  "metadata": {
    "colab": {
      "name": "Dataset-transform_to_frecords.ipynb",
      "provenance": [],
      "collapsed_sections": []
    },
    "kernelspec": {
      "name": "python3",
      "display_name": "Python 3"
    }
  },
  "cells": [
    {
      "cell_type": "markdown",
      "source": [
        "# This code is to make .bin files to .tfrecords"
      ],
      "metadata": {
        "id": "Aem4w8VXNdRJ"
      }
    },
    {
      "cell_type": "markdown",
      "metadata": {
        "id": "3YxW8jGAKgBr"
      },
      "source": [
        "## Mount on your drive to use data stored "
      ]
    },
    {
      "cell_type": "code",
      "metadata": {
        "id": "UMHgwMwKKJp0"
      },
      "source": [
        "from google.colab import drive\n",
        "drive.mount(\"/content/drive\")"
      ],
      "execution_count": null,
      "outputs": []
    },
    {
      "cell_type": "markdown",
      "metadata": {
        "id": "3EaWQJl2OJcy"
      },
      "source": [
        "## Import required libraries"
      ]
    },
    {
      "cell_type": "code",
      "metadata": {
        "id": "GHf5er1ILZdZ"
      },
      "source": [
        "import ntpath\n",
        "import os\n",
        "import glob\n",
        "import struct\n",
        "import tensorflow as tf # tensorflow 1.14, 2.0.0-alpha, 2.0.0-beta1\n",
        "from tensorflow.core.example import example_pb2\n",
        "import argparse"
      ],
      "execution_count": null,
      "outputs": []
    },
    {
      "cell_type": "markdown",
      "metadata": {
        "id": "EGd8GYebKvWH"
      },
      "source": [
        "### Example generator"
      ]
    },
    {
      "cell_type": "code",
      "metadata": {
        "id": "6G0lqJI6Lcmr"
      },
      "source": [
        "def example_generator(file):\n",
        "  \n",
        "  while True:\n",
        "    len_bytes = file.read(8)\n",
        "    if not len_bytes: break # finished reading this file\n",
        "    str_len = struct.unpack('q', len_bytes)[0]\n",
        "    example_str = struct.unpack('%ds' % str_len, file.read(str_len))[0]\n",
        "    yield example_pb2.Example.FromString(example_str)"
      ],
      "execution_count": null,
      "outputs": []
    },
    {
      "cell_type": "code",
      "metadata": {
        "id": "nG1Ojqm3RJqR"
      },
      "source": [
        "\n",
        "def art_abs_example(article, abstract):\n",
        "  \n",
        "  def _bytes_feature(value):\n",
        "    \"\"\"Returns a bytes_list from a string / byte.\"\"\"\n",
        "    if isinstance(value, type(tf.constant(0))):\n",
        "      value = value.numpy() # BytesList won't unpack a string from an EagerTensor.\n",
        "    return tf.train.Feature(bytes_list=tf.train.BytesList(value=[value.encode()]))\n",
        "\n",
        "  feature = {\n",
        "      'article': _bytes_feature(article),\n",
        "      'abstract': _bytes_feature(abstract)\n",
        "  }\n",
        "\n",
        "  return tf.train.Example(features=tf.train.Features(feature=feature))"
      ],
      "execution_count": null,
      "outputs": []
    },
    {
      "cell_type": "markdown",
      "metadata": {
        "id": "YI5p1wAnLHiN"
      },
      "source": [
        "### Main method"
      ]
    },
    {
      "cell_type": "code",
      "metadata": {
        "id": "dwog--w7LnId"
      },
      "source": [
        "def make_TFRecords(data_path, new_data_path):\n",
        "  print(\"Starting ...\")\n",
        "  if not os.path.exists(new_data_path):\n",
        "    os.makedirs(new_data_path)\n",
        "  filelist = glob.glob(data_path+\"/**/*.bin\", recursive=True) # get the list of datafiles\n",
        "  assert filelist, \"No binary files\"\n",
        "  \n",
        "  common_path = os.path.commonpath(filelist)\n",
        "  files = [os.path.splitext(x.replace(common_path, \"\"))[0]  for x in filelist]\n",
        "  \n",
        "  for f, filename in zip(filelist, files):\n",
        "    try:\n",
        "      file =  open(f, 'rb')\n",
        "    except:\n",
        "      print(\"Cannot open file : {}\".format(f))\n",
        "      continue\n",
        "     \n",
        "    record_file = '{}/{}.tfrecords'.format(new_data_path, filename)\n",
        "    record_dir = os.path.dirname(record_file)\n",
        "    if not os.path.exists(record_dir):\n",
        "      os.makedirs(record_dir)\n",
        "    with tf.io.TFRecordWriter(record_file) as writer:\n",
        "      for e in example_generator(file):\n",
        "        try:\n",
        "          article_text = e.features.feature['article'].bytes_list.value[0].decode()\n",
        "          abstract_text = e.features.feature['abstract'].bytes_list.value[0].decode()\n",
        "          \n",
        "          tf_example = art_abs_example(article_text, abstract_text)\n",
        "          writer.write(tf_example.SerializeToString())\n",
        "\n",
        "        except ValueError:\n",
        "          tf.logging.error('Failed to get article or abstract from example')\n",
        "          continue\n",
        "        if len(article_text) == 0   :\n",
        "          tf.logging.warning('Found an example with empty article text. Skipping it.')\n",
        "          \n",
        "    print(\"Chunked file {} processed and saved to {}\".format(f, record_file))"
      ],
      "execution_count": null,
      "outputs": []
    },
    {
      "cell_type": "markdown",
      "metadata": {
        "id": "wu5-89uDLJhJ"
      },
      "source": [
        "## Use case"
      ]
    },
    {
      "cell_type": "code",
      "metadata": {
        "id": "E0hoP6I2LKKd"
      },
      "source": [
        "data_path2 = \"/content/\"\n",
        "new_data_path = \"tfrecords_folder1\""
      ],
      "execution_count": null,
      "outputs": []
    },
    {
      "cell_type": "code",
      "metadata": {
        "id": "3Tf0fxpHLbSW",
        "colab": {
          "base_uri": "https://localhost:8080/"
        },
        "outputId": "de18dba9-f538-49c1-f644-9825a2ec6e34"
      },
      "source": [
        "make_TFRecords(data_path2, new_data_path)"
      ],
      "execution_count": null,
      "outputs": [
        {
          "output_type": "stream",
          "name": "stdout",
          "text": [
            "Starting ...\n",
            "Chunked file /content/val_000.bin processed and saved to tfrecords_folder1//val_000.tfrecords\n",
            "Chunked file /content/val_001.bin processed and saved to tfrecords_folder1//val_001.tfrecords\n"
          ]
        }
      ]
    },
    {
      "cell_type": "code",
      "metadata": {
        "id": "9Q3f-WW2Lik-",
        "colab": {
          "base_uri": "https://localhost:8080/"
        },
        "outputId": "2164feaf-0653-460d-b27d-e7a6cf0b6b50"
      },
      "source": [
        "ls $new_data_path"
      ],
      "execution_count": null,
      "outputs": [
        {
          "output_type": "stream",
          "name": "stdout",
          "text": [
            "val_000.tfrecords  val_001.tfrecords\n"
          ]
        }
      ]
    },
    {
      "cell_type": "markdown",
      "source": [
        "# Save files to local"
      ],
      "metadata": {
        "id": "gFr7pL_w-Fn_"
      }
    },
    {
      "cell_type": "code",
      "source": [
        "from google.colab import files\n"
      ],
      "metadata": {
        "id": "vAjkOMvhE4_7"
      },
      "execution_count": null,
      "outputs": []
    },
    {
      "cell_type": "code",
      "source": [
        "!zip -r /content/tf.zip /content/tfrecords_folder"
      ],
      "metadata": {
        "id": "K2jQPWEPFRqQ",
        "outputId": "cd4ba190-5a09-4650-8f76-37e023cfb396",
        "colab": {
          "base_uri": "https://localhost:8080/"
        }
      },
      "execution_count": null,
      "outputs": [
        {
          "output_type": "stream",
          "name": "stdout",
          "text": [
            "  adding: content/tfrecords_folder/ (stored 0%)\n",
            "  adding: content/tfrecords_folder/test_001.tfrecords (deflated 72%)\n",
            "  adding: content/tfrecords_folder/test_000.tfrecords (deflated 73%)\n"
          ]
        }
      ]
    },
    {
      "cell_type": "code",
      "source": [
        "files.download('/content/tf.zip')"
      ],
      "metadata": {
        "id": "5cO4KIxHFZdf",
        "outputId": "414872cb-68b1-4d68-e889-5928316e3564",
        "colab": {
          "base_uri": "https://localhost:8080/",
          "height": 17
        }
      },
      "execution_count": null,
      "outputs": [
        {
          "output_type": "display_data",
          "data": {
            "text/plain": [
              "<IPython.core.display.Javascript object>"
            ],
            "application/javascript": [
              "\n",
              "    async function download(id, filename, size) {\n",
              "      if (!google.colab.kernel.accessAllowed) {\n",
              "        return;\n",
              "      }\n",
              "      const div = document.createElement('div');\n",
              "      const label = document.createElement('label');\n",
              "      label.textContent = `Downloading \"${filename}\": `;\n",
              "      div.appendChild(label);\n",
              "      const progress = document.createElement('progress');\n",
              "      progress.max = size;\n",
              "      div.appendChild(progress);\n",
              "      document.body.appendChild(div);\n",
              "\n",
              "      const buffers = [];\n",
              "      let downloaded = 0;\n",
              "\n",
              "      const channel = await google.colab.kernel.comms.open(id);\n",
              "      // Send a message to notify the kernel that we're ready.\n",
              "      channel.send({})\n",
              "\n",
              "      for await (const message of channel.messages) {\n",
              "        // Send a message to notify the kernel that we're ready.\n",
              "        channel.send({})\n",
              "        if (message.buffers) {\n",
              "          for (const buffer of message.buffers) {\n",
              "            buffers.push(buffer);\n",
              "            downloaded += buffer.byteLength;\n",
              "            progress.value = downloaded;\n",
              "          }\n",
              "        }\n",
              "      }\n",
              "      const blob = new Blob(buffers, {type: 'application/binary'});\n",
              "      const a = document.createElement('a');\n",
              "      a.href = window.URL.createObjectURL(blob);\n",
              "      a.download = filename;\n",
              "      div.appendChild(a);\n",
              "      a.click();\n",
              "      div.remove();\n",
              "    }\n",
              "  "
            ]
          },
          "metadata": {}
        },
        {
          "output_type": "display_data",
          "data": {
            "text/plain": [
              "<IPython.core.display.Javascript object>"
            ],
            "application/javascript": [
              "download(\"download_dac177bc-e485-438b-9d00-4fc640802731\", \"tf.zip\", 1586131)"
            ]
          },
          "metadata": {}
        }
      ]
    },
    {
      "cell_type": "code",
      "source": [
        ""
      ],
      "metadata": {
        "id": "y3EEzUpXFeOC"
      },
      "execution_count": null,
      "outputs": []
    }
  ]
}